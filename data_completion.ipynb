{
 "cells": [
  {
   "cell_type": "code",
   "execution_count": 1,
   "metadata": {},
   "outputs": [],
   "source": [
    "import pandas as pd\n",
    "import requests\n",
    "from bs4 import BeautifulSoup\n",
    "import json\n"
   ]
  },
  {
   "cell_type": "code",
   "execution_count": 28,
   "metadata": {},
   "outputs": [],
   "source": [
    "def fetch_job_description(url):\n",
    "    headers = {\"User-Agent\": \"Mozilla/5.0\"}\n",
    "    response = requests.get(url, headers=headers)\n",
    "    if response.status_code != 200:\n",
    "        print(f\"Failed to fetch URL: {url}\")\n",
    "        return \"\"\n",
    "    soup = BeautifulSoup(response.content, \"html.parser\")\n",
    "    return soup.get_text(separator=\" \", strip=True)\n"
   ]
  },
  {
   "cell_type": "code",
   "execution_count": 29,
   "metadata": {},
   "outputs": [
    {
     "data": {
      "text/plain": [
       "'Louis Vuitton hiring Junior Data Scientist in New York, NY | LinkedIn LinkedIn and 3rd parties use essential and non-essential cookies to provide, secure, analyze and improve our Services, and to show you relevant ads (including professional and job ads ) on and off LinkedIn. Learn more in our Cookie Policy . Select Accept to consent or Reject to decline non-essential cookies for this use. You can update your choices at any time in your settings . Accept Reject Skip to main content LinkedIn Junior Data Scientist in Milan Expand search This button displays the currently selected search type. When expanded it provides a list of search options that will switch the search inputs to match the current selection. Jobs People Learning Clear text Clear text Clear text Clear text Clear text Join now Sign in Junior Data Scientist Louis Vuitton New York, NY Apply Join or sign in to find your next job Join to apply for the Junior Data Scientist role at Louis Vuitton Not you? Remove photo First name Last name Email Password (6+ characters) By clicking Agree & Join, you agree to the LinkedIn User Agreement , Privacy Policy and Cookie Policy . Continue Agree & Join or You may also apply directly on company website . Security verification Already on LinkedIn? Sign in Junior Data Scientist Louis Vuitton New York, NY 3 days ago Over 200 applicants See who Louis Vuitton has hired for this role Apply Join or sign in to find your next job Join to apply for the Junior Data Scientist role at Louis Vuitton Not you? Remove photo First name Last name Email Password (6+ characters) By clicking Agree & Join, you agree to the LinkedIn User Agreement , Privacy Policy and Cookie Policy . Continue Agree & Join or You may also apply directly on company website . Security verification Already on LinkedIn? Sign in Save Report this job About The Job Louis Vuitton is seeking a dynamic and visionary Data Scientist to join our Data Insights & Analytics team based out of our NYC office. In this pivotal role, you will be entrusted with leveraging the Power BI (PBI) platform, reporting, and advanced machine learning analytics to propel our strategic initiatives and enhance operational efficiencies. You will play a crucial role in the design, development, and implementation of data reporting and advanced analytics solutions. The ideal candidate will exhibit exceptional technical proficiency in data analytics and possess a collaborative spirit that fosters effective partnerships across diverse business teams to transform data into actionable insights. Job responsibilities Work closely with various teams to understand business requirements and develop innovative data models that address specific needs. Utilize advanced statistical techniques, machine learning algorithms, such as market basket analysis, demand forecasting algorithms to derive insights from large and complex datasets. Create and implement predictive and prescriptive models that support strategic decision-making processes. Deploy Python and SQL to efficiently manipulate and analyze data. Take ownership of the design, development, and maintenance of ongoing metrics, analyses, and BI dashboards to inform key business decisions. Keep abreast of the latest advancements in data science and actively contribute to the continuous improvement of our analytical capabilities. Profile The ideal candidates will possess 2+ years of analytics and/or data science experience, preferably within luxury and retail sectors. This individual will bring a wealth of expertise in main statistical techniques, descriptive and predictive models, and machine learning algorithms. The succesful candidate will be recognized for their proficiency in analyzing large, complex databases in distributed environments, they will have significant experience in data science development on Google Cloud Platform (GCP) and is adept with data visualization tools such as Power BI, Tableau, and Qlik. Your technical skills include proficiency in DAX Query, Power Query, Microsoft Power Automation, SQL programming, and Python language. Additionally, you possess a keen sensitivity to the world of luxury, embodying the excellence, rigor, attention to detail, and creativity that this environment demands. The appointed candidate will be offered a salary within the range of USD $100K-$115K, a comprehensive benefits package including: medical, dental, vision, short and long-term disability, various paid time off programs, employee discount/perks and two retirement plans both with employer contributions. Please note that restrictions may apply to part-time employees The position requires 4 days per week on site in the Louis Vuitton Corporate Office, located in the heart of Midtown, Manhattan. Additional information Louis Vuitton is a company that respects the uniqueness of each employee and offers everyone the means to find their place and prosper. We promote initiatives aimed at supporting professional equality for everyone. We strive to go above and beyond purely symbolic measures by building a culture passionate about meaningful strategies aimed at crafting an inclusive workforce. In addition to a generous benefits package, unparalleled career development opportunities, both locally & globally, as an employee at Louis Vuitton, you can expect to be provided with industry leading training which will offer you an in-depth insight into the luxury and retail environment. Reference LVM27504 Show more Show less Seniority level Not Applicable Employment type Full-time Job function Engineering and Information Technology Industries Retail Apparel and Fashion, Retail Luxury Goods and Jewelry, and Retail Referrals increase your chances of interviewing at Louis Vuitton by 2x See who you know Get notified when a new job is posted. Set alert Sign in to set job alerts for “Data Scientist” roles. Sign in Welcome back Email or phone Password Show Forgot password? Sign in or By clicking Continue to join or sign in, you agree to LinkedIn’s User Agreement , Privacy Policy , and Cookie Policy . New to LinkedIn? Join now or New to LinkedIn? Join now By clicking Continue to join or sign in, you agree to LinkedIn’s User Agreement , Privacy Policy , and Cookie Policy . Similar jobs Data Scientist, Growth Data Scientist, Growth Notion New York, NY $166,000.00\\n            -\\n            $195,000.00 2 weeks ago Data Scientist (Energy Systems) Data Scientist (Energy Systems) Paces Brooklyn, NY $130,000.00\\n            -\\n            $150,000.00 3 days ago Data Scientist, Product Data Scientist, Product Notion New York, NY $136,000.00\\n            -\\n            $230,000.00 1 week ago Data Scientist (Energy Systems) Data Scientist (Energy Systems) Paces New York, NY $130,000.00\\n            -\\n            $150,000.00 3 days ago Decision Scientist (Hybrid Role - New York) Decision Scientist (Hybrid Role - New York) OLAPLEX New York, NY $120,000.00\\n            -\\n            $140,000.00 1 week ago AI/ML Developer AI/ML Developer Verition Fund Management LLC New York, NY 2 months ago Data Scientist, Gmail and Chat AI Model Quality Data Scientist, Gmail and Chat AI Model Quality Google New York, NY $214,000.00\\n            -\\n            $305,000.00 2 weeks ago Data Scientist Data Scientist Tagup, Inc. New York, NY $90,000.00\\n            -\\n            $125,000.00 1 month ago Data Scientist Data Scientist FanDuel Jersey City, NJ $102,000.00\\n            -\\n            $140,800.00 1 week ago Staff Data Scientist Staff Data Scientist SoFi New York, NY $153,600.00\\n            -\\n            $264,000.00 1 week ago Data Scientist, Product Analytics Data Scientist, Product Analytics Meta New York, NY $114,000.00\\n            -\\n            $171,000.00 2 months ago Data Scientist Data Scientist City of New York Manhattan, NY 1 year ago Data Scientist Data Scientist Verizon New York, NY $84,000.00\\n            -\\n            $155,000.00 1 week ago Research Scientist, Gemini Data Research Scientist, Gemini Data Google New York, NY $136,000.00\\n            -\\n            $200,000.00 2 weeks ago Data Scientist Data Scientist City of New York Manhattan, NY 3 months ago Machine Learning Engineer Machine Learning Engineer Dstillery New York, NY 3 days ago Data Scientist, Legal Data Scientist, Legal Meta New York, NY $124,000.00\\n            -\\n            $176,000.00 1 week ago Data Scientist Data Scientist City of New York Manhattan, NY 1 year ago Data Scientist Data Scientist Modo Energy New York, NY $105,000.00\\n            -\\n            $185,000.00 4 months ago Data Scientist 1 Data Scientist 1 PayPal New York, NY $72,700.00\\n            -\\n            $176,000.00 2 months ago Data Scientist Data Scientist ITE Management New York, NY $135,000.00\\n            -\\n            $215,000.00 9 months ago Machine Learning Engineer Machine Learning Engineer Arthur New York, NY $160,000.00\\n            -\\n            $230,000.00 2 months ago Data Scientist, Algorithms - Pricing Data Scientist, Algorithms - Pricing Lyft New York, NY $128,000.00\\n            -\\n            $160,000.00 1 week ago Machine Learning Engineer Machine Learning Engineer Tagup, Inc. New York, NY $95,000.00\\n            -\\n            $130,000.00 1 week ago Machine Learning Engineer Machine Learning Engineer Cantor Fitzgerald New York, NY 6 days ago Data Scientist Data Scientist Warner Music Group New York, NY $150,000.00\\n            -\\n            $160,000.00 1 month ago Data Scientist, Product Analytics Data Scientist, Product Analytics Meta New York, NY $145,000.00\\n            -\\n            $204,000.00 2 months ago Show more jobs like this Show fewer jobs like this People also viewed Data Scientist, Product Analytics Data Scientist, Product Analytics Meta New York, NY $173,000.00\\n            -\\n            $242,000.00 2 months ago Consultant - Data Scientist Consultant - Data Scientist Arootah New York, NY $150.00\\n            -\\n            $350.00 10 months ago Data Scientist Data Scientist IT Minds LLC Whippany, NJ 5 months ago Machine Learning Engineer - MLOps Team Machine Learning Engineer - MLOps Team Aura Intelligence New York, NY 1 month ago ML, Python, and Databricks ML, Python, and Databricks Genpact New York City Metropolitan Area 3 days ago Data Scientist - Drug Discovery Data Scientist - Drug Discovery Discover International New York City Metropolitan Area $200,000.00\\n            -\\n            $250,000.00 4 days ago Data Scientist - 702209 Data Scientist - 702209 NYC Department of Housing Preservation & Development New York, NY $84,981.00\\n            -\\n            $97,728.00 2 days ago Data Scientist V Data Scientist V INSPYR Solutions New York, NY $84.00\\n            -\\n            $104.00 4 days ago Machine Learning Engineer Machine Learning Engineer Hayward Hawk Manhattan, NY 2 days ago Data Scientist Data Scientist NYC Department of Environmental Protection (NYC DEP) New York, NY 4 weeks ago Similar Searches Scientist jobs 48,969 open jobs Data Science Specialist jobs 2,441 open jobs Junior Scientist jobs 10,103 open jobs Lead Scientist jobs 14,164 open jobs Senior Scientist jobs 19,214 open jobs Machine Learning Engineer jobs 148,937 open jobs Data Warehouse Project Manager jobs 10,365 open jobs Science Manager jobs 15,298 open jobs Senior Staff Scientist jobs 6,754 open jobs Staff Geophysicist jobs 106 open jobs Data Analyst jobs 329,009 open jobs Assistant City Engineer jobs 18,090 open jobs Principal Geophysicist jobs 64 open jobs Senior Information Developer jobs 1,040 open jobs Director Data Science jobs 4,457 open jobs Pathology Resident jobs 609 open jobs Statistician jobs 20,674 open jobs Biostatistician jobs 21,103 open jobs Regional Risk Manager jobs 3,488 open jobs Data Mining Specialist jobs 24,616 open jobs Bioinformatician jobs 18,406 open jobs Algorithm Developer jobs 1,195 open jobs Senior Integration Specialist jobs 49,775 open jobs Statistical Researcher jobs 1,534 open jobs Principal Scientist jobs 11,010 open jobs Show more Show less Explore collaborative articles We’re unlocking community knowledge in a new way. Experts add insights directly into each article, started with the help of AI. Explore More More searches More searches Century Park Associates jobs Scientist jobs Data Science Specialist jobs Junior Scientist jobs Lead Scientist jobs Senior Scientist jobs Machine Learning Engineer jobs Total Education Solutions jobs Data Warehouse Project Manager jobs Science Manager jobs Security Alliance jobs Senior Staff Scientist jobs Staff Geophysicist jobs Data Analyst jobs Assistant City Engineer jobs Principal Geophysicist jobs Telamon Corporation jobs Senior Information Developer jobs Director Data Science jobs Bureau of Economic Analysis jobs Pathology Resident jobs Statistician jobs Biostatistician jobs Regional Risk Manager jobs Data Mining Specialist jobs Bioinformatician jobs Algorithm Developer jobs Senior Integration Specialist jobs Statistical Researcher jobs Principal Scientist jobs Data Engineer jobs Saving Sight jobs Quantitative Researcher jobs Computational Biologist jobs Perceptron jobs Science Specialist jobs Jacksonville Zoo and Gardens jobs Senior Bioinformatics Scientist jobs Principal Statistician jobs Quantitative Analyst jobs Senior Business Analyst Contract jobs Senior Mechanical Project Engineer jobs Research Scientist jobs Bioinformatics Specialist jobs Research Statistician jobs Signal Processing Engineer jobs Information Assurance Engineer jobs Intelligence Specialist jobs Geospatial Analyst jobs Scout Talent jobs Computational Scientist jobs Bioinformatics Analyst jobs Physical Scientist jobs Processing Geophysicist jobs Statistical Assistant jobs Joomla Developer jobs Senior Statistical Programmer jobs Computational Chemist jobs Personal Capital jobs Analyst jobs LinkedIn © 2025 About Accessibility User Agreement Privacy Policy Cookie Policy Copyright Policy Brand Policy Guest Controls Community Guidelines العربية (Arabic) বাংলা (Bangla) Čeština (Czech) Dansk (Danish) Deutsch (German) Ελληνικά (Greek) English (English) Español (Spanish) فارسی (Persian) Suomi (Finnish) Français (French) हिंदी (Hindi) Magyar (Hungarian) Bahasa Indonesia (Indonesian) Italiano (Italian) עברית (Hebrew) 日本語 (Japanese) 한국어 (Korean) मराठी (Marathi) Bahasa Malaysia (Malay) Nederlands (Dutch) Norsk (Norwegian) ਪੰਜਾਬੀ (Punjabi) Polski (Polish) Português (Portuguese) Română (Romanian) Русский (Russian) Svenska (Swedish) తెలుగు (Telugu) ภาษาไทย (Thai) Tagalog (Tagalog) Türkçe (Turkish) Українська (Ukrainian) Tiếng Việt (Vietnamese) 简体中文 (Chinese (Simplified)) 正體中文 (Chinese (Traditional)) Language Agree & Join LinkedIn By clicking Continue to join or sign in, you agree to LinkedIn’s User Agreement , Privacy Policy , and Cookie Policy . Sign in to see who you already know at Louis Vuitton Sign in Welcome back Email or phone Password Show Forgot password? Sign in or By clicking Continue to join or sign in, you agree to LinkedIn’s User Agreement , Privacy Policy , and Cookie Policy . New to LinkedIn? Join now or New to LinkedIn? Join now By clicking Continue to join or sign in, you agree to LinkedIn’s User Agreement , Privacy Policy , and Cookie Policy .'"
      ]
     },
     "execution_count": 29,
     "metadata": {},
     "output_type": "execute_result"
    }
   ],
   "source": [
    "fetch_job_description(\"https://www.linkedin.com/jobs/view/junior-data-scientist-at-louis-vuitton-4184288621/?position=1&pageNum=0&refId=HgU79nN86L5X1M%2BurGd7EQ%3D%3D&trackingId=mw0LHARTIwNRAz%2F3Klz8VQ%3D%3D\")"
   ]
  },
  {
   "cell_type": "code",
   "execution_count": null,
   "metadata": {},
   "outputs": [
    {
     "name": "stdout",
     "output_type": "stream",
     "text": [
      "Processing: https://www.linkedin.com/jobs/view/junior-data-scientist-at-louis-vuitton-4184288621?position=1&pageNum=0&refId=HgU79nN86L5X1M%2BurGd7EQ%3D%3D&trackingId=mw0LHARTIwNRAz%2F3Klz8VQ%3D%3D\n"
     ]
    }
   ],
   "source": [
    "import pandas as pd\n",
    "import requests\n",
    "from bs4 import BeautifulSoup\n",
    "import json\n",
    "\n",
    "# Function to call Ollama API and extract job details\n",
    "def extract_details_with_ollama(job_text):\n",
    "    url = \"http://localhost:11434/api/generate\"\n",
    "    prompt = f\"\"\"\n",
    "Extract the following details from the job description:\n",
    "- Salary\n",
    "- Years of experience required\n",
    "- Technical requirements\n",
    "- Education level requirements\n",
    "\n",
    "Job description:\n",
    "{job_text}\n",
    "\n",
    "Output the result as JSON with keys: \"salary\", \"experience\", \"technical_requirements\", \"education\".\n",
    "\"\"\"\n",
    "    payload = {\"model\": \"llama3.2:1b\", \"prompt\": prompt}\n",
    "\n",
    "    response = requests.post(url, json=payload, stream=True)\n",
    "\n",
    "    tokens = []\n",
    "    for line in response.iter_lines():\n",
    "        if line:\n",
    "            try:\n",
    "                token_data = json.loads(line.decode(\"utf-8\"))\n",
    "                token = token_data.get(\"response\", \"\")\n",
    "                tokens.append(token)\n",
    "            except json.JSONDecodeError:\n",
    "                continue\n",
    "\n",
    "    final_answer = \"\".join(tokens)\n",
    "    print(final_answer)\n",
    "    try:\n",
    "        return json.loads(final_answer)\n",
    "    except json.JSONDecodeError:\n",
    "        print(\"Error: LLM output is not valid JSON.\")\n",
    "        return {}\n",
    "\n",
    "# Function to extract raw text from the job detail page\n",
    "def fetch_job_description(url):\n",
    "    headers = {\"User-Agent\": \"Mozilla/5.0\"}\n",
    "    response = requests.get(url, headers=headers)\n",
    "    if response.status_code != 200:\n",
    "        print(f\"Failed to fetch URL: {url}\")\n",
    "        return \"\"\n",
    "    soup = BeautifulSoup(response.content, \"html.parser\")\n",
    "    return soup.get_text(separator=\" \", strip=True)\n",
    "\n",
    "def main():\n",
    "    df = pd.read_csv(\"jobs.csv\")\n",
    "\n",
    "    # Add new columns for extracted details\n",
    "    df[\"salary\"] = None\n",
    "    df[\"experience\"] = None\n",
    "    df[\"technical_requirements\"] = None\n",
    "    df[\"education\"] = None\n",
    "\n",
    "    for idx, row in df.iterrows():\n",
    "        job_url = row[\"job_detail_url\"]\n",
    "        print(f\"Processing: {job_url}\")\n",
    "        job_text = fetch_job_description(job_url)\n",
    "        if not job_text:\n",
    "            continue\n",
    "        details = extract_details_with_ollama(job_text)\n",
    "        print(details)\n",
    "        break\n",
    "        df.at[idx, \"salary\"] = details.get(\"salary\")\n",
    "        df.at[idx, \"experience\"] = details.get(\"experience\")\n",
    "        df.at[idx, \"technical_requirements\"] = details.get(\"technical_requirements\")\n",
    "        df.at[idx, \"education\"] = details.get(\"education\")\n",
    "\n",
    "    df.to_csv(\"jobs_enriched.csv\", index=False)\n",
    "    print(\"Enriched CSV saved as jobs_enriched.csv\")\n",
    "\n",
    "if __name__ == \"__main__\":\n",
    "    main()\n"
   ]
  },
  {
   "cell_type": "code",
   "execution_count": null,
   "metadata": {},
   "outputs": [
    {
     "data": {
      "text/plain": [
       "'NimbleRx hiring Engineer (New Grad) in Redwood City, CA | LinkedIn LinkedIn and 3rd parties use essential and non-essential cookies to provide, secure, analyze and improve our Services, and to show you relevant ads (including professional and job ads ) on and off LinkedIn. Learn more in our Cookie Policy . Select Accept to consent or Reject to decline non-essential cookies for this use. You can update your choices at any time in your settings . Accept Reject Skip to main content LinkedIn Engineer (New Grad) in Milan Expand search This button displays the currently selected search type. When expanded it provides a list of search options that will switch the search inputs to match the current selection. Jobs People Learning Clear text Clear text Clear text Clear text Clear text Join now Sign in Engineer (New Grad) NimbleRx Redwood City, CA Apply Engineer (New Grad) NimbleRx Redwood City, CA 4 weeks ago Over 200 applicants See who NimbleRx has hired for this role Apply Save Report this job NimbleRx provided pay range This range is provided by NimbleRx. Your actual pay will be based on your skills and experience — talk with your recruiter to learn more. Base pay range $130,000.00/yr - $155,000.00/yr Nimble is a healthtech company on a mission to simplify access, understanding and management of healthcare. We are starting by building the largest, most loved pharmacy business in the world. We are a fast-growing, technology-first startup driven by perfecting the patient and pharmacist experience. Nimble fosters a culture of collaboration, open communication and deliberate action that allows us to face today’s most exciting challenges head-on and grow incredibly quickly. As a Nimble Engineer, you will help in architecting the technology and customer experience that run Nimble (www.nimblerx.com). You will join a team of world-class, highly motivated software engineers who build for performance, reliability, and scalability. You will work closely with other developers, as well as with groups such as product management and design, to understand feature requirements and functional and technical use cases. With your colleagues, you will work to deliver high-quality code on time. If you have the aspirations to help drive technical direction, take on technical challenges, and design life changing features, come join us! This is an excellent opportunity to launch your career as a software engineer while contributing to meaningful projects that make an impact! Our engineering culture: We operate with shared trust and no egos. We enjoy being \"in this together\" and collaborating on the challenges of a rapidly scaling business. We daily live out our company values of empathy, simplicity, autonomy, leadership, ownership, burning curiosity, bias for action, mentorship, and operate with context, not control, in a highly collaborative environment. You will: Develop applications and services that serve millions of users Create product features and design easy-to-use APIs, systems, and tools Collaborate with cross-functional teams (product, design, data, operations, etc.) to understand requirements and build high-quality software solutions Build for performance, reliability, and scalability Learn rapidly in a fast-paced, lean engineering organization Write clean, maintainable, and efficient code What you bring: Strong foundation (Bachelors or equivalent) in Computer Science or related field Strong analytical and problem-solving skills Ability to work in a fast-paced, collaborative environment and contribute to team success Excellent communication skills Bonus if you have any of the following: Experience with Java server frameworks and tools (Spring / Hibernate) Experience developing web applications with Typescript, React, and NextJS Experience developing mobile applications with Flutter Experience with cloud infrastructure on AWS What’s in it for you: Compassionate and driven colleagues in a fun environment where success is celebrated Accelerated career growth in a fast-growing company Coaching from experienced engineering leaders Direct access to executives and a transparent company culture Rare opportunity to change an industry and lives of millions We are reinventing healthcare / pharmacy - your (grand)parents and your (grand)children will understand and appreciate what you do Medical / Dental / Vision / 401K package that fits your needs Generous Vacation Policy - work hard and take time when you need it 11 Paid Holidays Work out of our HQ in beautiful downtown Redwood City At Nimble, we are dedicated to putting patients first and improving pharmacies across America. Join us on this exciting journey! Diversity, inclusion and belonging at Nimble: Nimble is building a diverse and inclusive work environment where we learn from each other. We pride ourselves on being an equal opportunity employer and welcome people of diverse backgrounds, abilities and perspectives. Show more Show less Seniority level Not Applicable Employment type Full-time Job function Engineering and Information Technology Industries Software Development Referrals increase your chances of interviewing at NimbleRx by 2x See who you know Get notified about new Engineer jobs in Redwood City, CA . Sign in to create job alert Similar jobs Mechanical Engineer Mechanical Engineer Meta Menlo Park, CA $170,000.00\\n            -\\n            $240,000.00 3 weeks ago Product Design Engineer (University Grad) Product Design Engineer (University Grad) Meta Sunnyvale, CA $111,000.00\\n            -\\n            $131,000.00 1 month ago AI Engineer AI Engineer LinkedIn Sunnyvale, CA $111,000.00\\n            -\\n            $183,000.00 2 weeks ago Thermal Manufacturing Engineer Thermal Manufacturing Engineer Google Sunnyvale, CA 1 week ago Product Design Mechanical Engineer, Reality Labs Product Design Mechanical Engineer, Reality Labs Meta Sunnyvale, CA $204,000.00\\n            -\\n            $281,000.00 3 days ago Product Design Engineer, Reality Labs Product Design Engineer, Reality Labs Meta Sunnyvale, CA $204,000.00\\n            -\\n            $281,000.00 3 days ago Process Engineer Process Engineer CelLink Corporation San Carlos, CA $95,000.00\\n            -\\n            $140,000.00 4 months ago Software Engineer - Frontend Software Engineer - Frontend LinkedIn Mountain View, CA $99,000.00\\n            -\\n            $163,000.00 1 week ago Manufacturing Mechanical NPI Engineer Manufacturing Mechanical NPI Engineer Arista Networks Santa Clara, CA 1 day ago Mechanical Engineer Mechanical Engineer Lime San Francisco, CA 4 days ago Mechanical Engineer Mechanical Engineer Fuse San Leandro, CA 2 weeks ago Software Engineer - Applications Software Engineer - Applications LinkedIn Mountain View, CA 2 days ago Product Design Engineer Product Design Engineer Meta Sunnyvale, CA $111,000.00\\n            -\\n            $131,000.00 3 weeks ago Quality Engineer Quality Engineer Johnson & Johnson San Lorenzo, CA 5 days ago Product Design Engineer, Reality Labs Product Design Engineer, Reality Labs Oculus VR Burlingame, CA $111,000.00\\n            -\\n            $164,000.00 2 months ago Quality Engineer 1 Quality Engineer 1 Natera San Carlos, CA 2 weeks ago Product Engineer Product Engineer Corsair Milpitas, CA $135,000.00\\n            -\\n            $150,000.00 2 weeks ago Mechanical Product Design Engineer, Platforms Mechanical Product Design Engineer, Platforms Google Sunnyvale, CA $122,000.00\\n            -\\n            $178,000.00 2 weeks ago Mechanical Design Engineer Mechanical Design Engineer Sciton Palo Alto, CA $100,000.00\\n            -\\n            $150,000.00 1 month ago Mechanical Engineer Mechanical Engineer Kforce Inc Palo Alto, CA $46.75\\n            -\\n            $63.25 1 week ago Product Design Engineer, Reality Labs Product Design Engineer, Reality Labs Oculus VR Sunnyvale, CA $111,000.00\\n            -\\n            $164,000.00 2 months ago Mechanical Engineer Mechanical Engineer Lumicity San Francisco Bay Area 1 week ago Maintenance Engineer Maintenance Engineer BART Oakland, CA 3 days ago Thin Film Process Engineer Thin Film Process Engineer Headway Technologies Milpitas, CA $96,655.00\\n            -\\n            $155,000.00 3 weeks ago Product Design Engineer, Reality Labs Product Design Engineer, Reality Labs Meta Sunnyvale, CA $139,000.00\\n            -\\n            $200,000.00 2 months ago Process Design Engineer Process Design Engineer Sila Nanotechnologies, Inc. Alameda, CA $151,000.00\\n            -\\n            $191,000.00 1 week ago Mechanical Design Engineer Mechanical Design Engineer Sciton Palo Alto, CA $100,000.00\\n            -\\n            $150,000.00 1 week ago Show more jobs like this Show fewer jobs like this People also viewed Product Design Engineer, Reality Labs Product Design Engineer, Reality Labs Meta Sunnyvale, CA $170,000.00\\n            -\\n            $240,000.00 2 months ago Thermal Design Engineer Thermal Design Engineer Rivian Palo Alto, CA 1 week ago Junior Engineer (Mechanical) [5201] - Citywide (C00324) Junior Engineer (Mechanical) [5201] - Citywide (C00324) City and County of San Francisco San Francisco, CA 3 days ago Energy Analysis & Modeling Engineer Energy Analysis & Modeling Engineer POSH Hayward, CA $70,000.00\\n            -\\n            $120,000.00 3 weeks ago Program Quality Engineer Program Quality Engineer Lockheed Martin Sunnyvale, CA 1 week ago Mechanical Engineer Mechanical Engineer Science Alameda, CA $113,000.00\\n            -\\n            $151,000.00 1 month ago Mechanical R&D Engineer Mechanical R&D Engineer Marathon Fusion San Francisco, CA 3 weeks ago Full Stack - Software Engineer (L5) - Platform Engineering Full Stack - Software Engineer (L5) - Platform Engineering Netflix Los Gatos, CA $100,000.00\\n            -\\n            $720,000.00 3 days ago Product Design Engineering Manager Product Design Engineering Manager Meta Sunnyvale, CA $204,000.00\\n            -\\n            $281,000.00 3 days ago Inventory Manufacturing Engineer, Raxium Inventory Manufacturing Engineer, Raxium Google Fremont, CA $93,000.00\\n            -\\n            $136,000.00 1 week ago Similar Searches Staff Software Engineer jobs 64,945 open jobs Technical Recruiter jobs 8,617 open jobs Fire Protection Engineer jobs 9,799 open jobs Recruiter jobs 243,016 open jobs Full Stack Engineer jobs 38,546 open jobs Accountant jobs 91,739 open jobs Solutions Architect jobs 100,488 open jobs Data Engineer jobs 192,126 open jobs Software Engineer jobs 300,699 open jobs Graduate jobs 361,130 open jobs Engineer jobs 555,845 open jobs Specialist jobs 768,666 open jobs Researcher jobs 195,654 open jobs Analyst jobs 694,057 open jobs Site Civil Engineer jobs 33,448 open jobs Network Security Officer jobs 5,280 open jobs Java Software Engineer jobs 36,180 open jobs Senior Reservoir Engineer jobs 246 open jobs Civil Engineer jobs 43,143 open jobs Electrical Software Engineer jobs 223,433 open jobs Developer jobs 258,935 open jobs Senior Data Engineer jobs 78,076 open jobs Senior Software Engineer jobs 78,145 open jobs Graduate Civil Engineer jobs 13,551 open jobs Site Reliability Engineer jobs 169,128 open jobs Show more Show less Explore collaborative articles We’re unlocking community knowledge in a new way. Experts add insights directly into each article, started with the help of AI. Explore More More searches More searches iManage jobs SnapLogic jobs Staff Software Engineer jobs NimbleRx jobs Technical Recruiter jobs Fetch jobs California ISO jobs Fire Protection Engineer jobs ERCOT jobs Cabot Corporation jobs Varo Bank jobs Hyland jobs Cardlytics jobs Recruiter jobs Moloco jobs Allstate jobs Khan Academy jobs Arrive Logistics jobs Full Stack Engineer jobs Infosys jobs Cognizant jobs Cadence jobs Accountant jobs Yardi jobs Solutions Architect jobs Data Engineer jobs Software Engineer jobs Goldman Sachs jobs Graduate jobs Atlassian jobs Engineer jobs PwC jobs Specialist jobs Handshake jobs Microsoft jobs EXPRESS jobs Nike jobs Researcher jobs Egnyte jobs Analyst jobs Amazon jobs Archetype jobs Site Civil Engineer jobs Network Security Officer jobs Java Software Engineer jobs Senior Reservoir Engineer jobs Civil Engineer jobs Electrical Software Engineer jobs Developer jobs Clear Creek County jobs Senior Data Engineer jobs Senior Software Engineer jobs Grand County jobs Graduate Civil Engineer jobs Site Reliability Engineer jobs Associate Software Engineer jobs Machine Learning Engineer jobs Mechanical Engineer jobs Project Test Engineer jobs Python Developer jobs LinkedIn © 2025 About Accessibility User Agreement Privacy Policy Cookie Policy Copyright Policy Brand Policy Guest Controls Community Guidelines العربية (Arabic) বাংলা (Bangla) Čeština (Czech) Dansk (Danish) Deutsch (German) Ελληνικά (Greek) English (English) Español (Spanish) فارسی (Persian) Suomi (Finnish) Français (French) हिंदी (Hindi) Magyar (Hungarian) Bahasa Indonesia (Indonesian) Italiano (Italian) עברית (Hebrew) 日本語 (Japanese) 한국어 (Korean) मराठी (Marathi) Bahasa Malaysia (Malay) Nederlands (Dutch) Norsk (Norwegian) ਪੰਜਾਬੀ (Punjabi) Polski (Polish) Português (Portuguese) Română (Romanian) Русский (Russian) Svenska (Swedish) తెలుగు (Telugu) ภาษาไทย (Thai) Tagalog (Tagalog) Türkçe (Turkish) Українська (Ukrainian) Tiếng Việt (Vietnamese) 简体中文 (Chinese (Simplified)) 正體中文 (Chinese (Traditional)) Language Agree & Join LinkedIn By clicking Continue to join or sign in, you agree to LinkedIn’s User Agreement , Privacy Policy , and Cookie Policy . Sign in to see who you already know at NimbleRx Sign in Welcome back Email or phone Password Show Forgot password? Sign in or By clicking Continue to join or sign in, you agree to LinkedIn’s User Agreement , Privacy Policy , and Cookie Policy . New to LinkedIn? Join now or New to LinkedIn? Join now By clicking Continue to join or sign in, you agree to LinkedIn’s User Agreement , Privacy Policy , and Cookie Policy .'"
      ]
     },
     "execution_count": 13,
     "metadata": {},
     "output_type": "execute_result"
    }
   ],
   "source": [
    "url = \"https://www.linkedin.com/jobs/view/engineer-new-grad-at-nimblerx-4184351976?position=3&pageNum=0&refId=HgU79nN86L5X1M%2BurGd7EQ%3D%3D&trackingId=2jpxzuu7eV%2BjPWD9hS5MLg%3D%3D\"\n",
    "desc = fetch_job_description(url)\n",
    "\n",
    "desc"
   ]
  },
  {
   "cell_type": "code",
   "execution_count": null,
   "metadata": {},
   "outputs": [
    {
     "name": "stdout",
     "output_type": "stream",
     "text": [
      "Processing: https://www.linkedin.com/jobs/view/junior-data-scientist-at-louis-vuitton-4184288621?position=1&pageNum=0&refId=HgU79nN86L5X1M%2BurGd7EQ%3D%3D&trackingId=mw0LHARTIwNRAz%2F3Klz8VQ%3D%3D\n",
      "Processing: https://www.linkedin.com/jobs/view/junior-business-analyst-at-morgan-stanley-4182955414?position=2&pageNum=0&refId=HgU79nN86L5X1M%2BurGd7EQ%3D%3D&trackingId=grOGjHUdO%2BpamfGj0JbBug%3D%3D\n",
      "Processing: https://www.linkedin.com/jobs/view/engineer-new-grad-at-nimblerx-4184351976?position=3&pageNum=0&refId=HgU79nN86L5X1M%2BurGd7EQ%3D%3D&trackingId=2jpxzuu7eV%2BjPWD9hS5MLg%3D%3D\n",
      "Error: Extracted JSON substring is not valid JSON.\n",
      "Processing: https://www.linkedin.com/jobs/view/master-data-coordinator-at-poppi-4183554421?position=4&pageNum=0&refId=HgU79nN86L5X1M%2BurGd7EQ%3D%3D&trackingId=SsLxu7Xciwdm5KnDBohCWQ%3D%3D\n",
      "Processing: https://www.linkedin.com/jobs/view/senior-bi-analyst-at-safeway-4182900305?position=5&pageNum=0&refId=HgU79nN86L5X1M%2BurGd7EQ%3D%3D&trackingId=P0U4oIC030q8Y%2FAZHztARA%3D%3D\n",
      "Processing: https://www.linkedin.com/jobs/view/jr-python-developer-ii-at-it-engagements-inc-4158673849?position=6&pageNum=0&refId=HgU79nN86L5X1M%2BurGd7EQ%3D%3D&trackingId=F3RKYqLNO4Jacji7rdgpBA%3D%3D\n",
      "Error: Extracted JSON substring is not valid JSON.\n",
      "Processing: https://www.linkedin.com/jobs/view/business-intelligence-developer-at-linkedin-4184313082?position=7&pageNum=0&refId=HgU79nN86L5X1M%2BurGd7EQ%3D%3D&trackingId=NUGdE1gAvaWE39U%2BhvMnjQ%3D%3D\n",
      "Error: Extracted JSON substring is not valid JSON.\n",
      "Processing: https://www.linkedin.com/jobs/view/python-developer-at-accroid-inc-4148185422?position=8&pageNum=0&refId=HgU79nN86L5X1M%2BurGd7EQ%3D%3D&trackingId=S1GWwIkQ%2FBn9HQxsjUwoww%3D%3D\n",
      "Processing: https://www.linkedin.com/jobs/view/jr-python-developer-job-id-20250307-at-phoenix-cyber-4179196463?position=9&pageNum=0&refId=HgU79nN86L5X1M%2BurGd7EQ%3D%3D&trackingId=TQqqENEwKyfFR8vhW1Odrw%3D%3D\n",
      "Processing: https://www.linkedin.com/jobs/view/backend-developer-python-at-adapty-io-4144057510?position=10&pageNum=0&refId=HgU79nN86L5X1M%2BurGd7EQ%3D%3D&trackingId=KPrW0Hr5wwvsMsgGaKJ1DQ%3D%3D\n",
      "Processing: https://www.linkedin.com/jobs/view/python-developer-at-purelogics-4141450053?position=1&pageNum=2&refId=9N8iIH5LxA3XXj%2FoD9oyGA%3D%3D&trackingId=DQe0suXFGge7oDeQCupZGA%3D%3D\n",
      "Error: Extracted JSON substring is not valid JSON.\n",
      "Processing: https://www.linkedin.com/jobs/view/data-customer-insights-analyst-at-cava-4183189119?position=2&pageNum=2&refId=9N8iIH5LxA3XXj%2FoD9oyGA%3D%3D&trackingId=v%2BgI7zNoqfszRqkGN1Lyzg%3D%3D\n"
     ]
    },
    {
     "ename": "KeyboardInterrupt",
     "evalue": "",
     "output_type": "error",
     "traceback": [
      "\u001b[1;31m---------------------------------------------------------------------------\u001b[0m",
      "\u001b[1;31mKeyboardInterrupt\u001b[0m                         Traceback (most recent call last)",
      "Cell \u001b[1;32mIn[10], line 93\u001b[0m\n\u001b[0;32m     90\u001b[0m     \u001b[38;5;28mprint\u001b[39m(\u001b[38;5;124m\"\u001b[39m\u001b[38;5;124mEnriched CSV saved as jobs_enriched.csv\u001b[39m\u001b[38;5;124m\"\u001b[39m)\n\u001b[0;32m     92\u001b[0m \u001b[38;5;28;01mif\u001b[39;00m \u001b[38;5;18m__name__\u001b[39m \u001b[38;5;241m==\u001b[39m \u001b[38;5;124m\"\u001b[39m\u001b[38;5;124m__main__\u001b[39m\u001b[38;5;124m\"\u001b[39m:\n\u001b[1;32m---> 93\u001b[0m     \u001b[43mmain\u001b[49m\u001b[43m(\u001b[49m\u001b[43m)\u001b[49m\n",
      "Cell \u001b[1;32mIn[10], line 83\u001b[0m, in \u001b[0;36mmain\u001b[1;34m()\u001b[0m\n\u001b[0;32m     81\u001b[0m \u001b[38;5;28;01mif\u001b[39;00m \u001b[38;5;129;01mnot\u001b[39;00m job_text:\n\u001b[0;32m     82\u001b[0m     \u001b[38;5;28;01mcontinue\u001b[39;00m\n\u001b[1;32m---> 83\u001b[0m details \u001b[38;5;241m=\u001b[39m \u001b[43mextract_details_with_ollama\u001b[49m\u001b[43m(\u001b[49m\u001b[43mjob_text\u001b[49m\u001b[43m)\u001b[49m\n\u001b[0;32m     84\u001b[0m df\u001b[38;5;241m.\u001b[39mat[idx, \u001b[38;5;124m\"\u001b[39m\u001b[38;5;124msalary\u001b[39m\u001b[38;5;124m\"\u001b[39m] \u001b[38;5;241m=\u001b[39m details\u001b[38;5;241m.\u001b[39mget(\u001b[38;5;124m\"\u001b[39m\u001b[38;5;124msalary\u001b[39m\u001b[38;5;124m\"\u001b[39m)\n\u001b[0;32m     85\u001b[0m df\u001b[38;5;241m.\u001b[39mat[idx, \u001b[38;5;124m\"\u001b[39m\u001b[38;5;124mexperience\u001b[39m\u001b[38;5;124m\"\u001b[39m] \u001b[38;5;241m=\u001b[39m details\u001b[38;5;241m.\u001b[39mget(\u001b[38;5;124m\"\u001b[39m\u001b[38;5;124mexperience\u001b[39m\u001b[38;5;124m\"\u001b[39m)\n",
      "Cell \u001b[1;32mIn[10], line 32\u001b[0m, in \u001b[0;36mextract_details_with_ollama\u001b[1;34m(job_text)\u001b[0m\n\u001b[0;32m      9\u001b[0m     prompt \u001b[38;5;241m=\u001b[39m \u001b[38;5;124mf\u001b[39m\u001b[38;5;124m\"\"\"\u001b[39m\n\u001b[0;32m     10\u001b[0m \u001b[38;5;124mExtract the following details from the job description:\u001b[39m\n\u001b[0;32m     11\u001b[0m \u001b[38;5;124m- Salary\u001b[39m\n\u001b[1;32m   (...)\u001b[0m\n\u001b[0;32m     28\u001b[0m \n\u001b[0;32m     29\u001b[0m \u001b[38;5;124m\"\"\"\u001b[39m\n\u001b[0;32m     30\u001b[0m     payload \u001b[38;5;241m=\u001b[39m {\u001b[38;5;124m\"\u001b[39m\u001b[38;5;124mmodel\u001b[39m\u001b[38;5;124m\"\u001b[39m: \u001b[38;5;124m\"\u001b[39m\u001b[38;5;124mllama3.2:1b\u001b[39m\u001b[38;5;124m\"\u001b[39m, \u001b[38;5;124m\"\u001b[39m\u001b[38;5;124mprompt\u001b[39m\u001b[38;5;124m\"\u001b[39m: prompt}\n\u001b[1;32m---> 32\u001b[0m     response \u001b[38;5;241m=\u001b[39m \u001b[43mrequests\u001b[49m\u001b[38;5;241;43m.\u001b[39;49m\u001b[43mpost\u001b[49m\u001b[43m(\u001b[49m\u001b[43murl\u001b[49m\u001b[43m,\u001b[49m\u001b[43m \u001b[49m\u001b[43mjson\u001b[49m\u001b[38;5;241;43m=\u001b[39;49m\u001b[43mpayload\u001b[49m\u001b[43m,\u001b[49m\u001b[43m \u001b[49m\u001b[43mstream\u001b[49m\u001b[38;5;241;43m=\u001b[39;49m\u001b[38;5;28;43;01mTrue\u001b[39;49;00m\u001b[43m)\u001b[49m\n\u001b[0;32m     34\u001b[0m     tokens \u001b[38;5;241m=\u001b[39m []\n\u001b[0;32m     35\u001b[0m     \u001b[38;5;28;01mfor\u001b[39;00m line \u001b[38;5;129;01min\u001b[39;00m response\u001b[38;5;241m.\u001b[39miter_lines():\n",
      "File \u001b[1;32md:\\Anaconda\\envs\\webscrapping\\lib\\site-packages\\requests\\api.py:115\u001b[0m, in \u001b[0;36mpost\u001b[1;34m(url, data, json, **kwargs)\u001b[0m\n\u001b[0;32m    103\u001b[0m \u001b[38;5;28;01mdef\u001b[39;00m\u001b[38;5;250m \u001b[39m\u001b[38;5;21mpost\u001b[39m(url, data\u001b[38;5;241m=\u001b[39m\u001b[38;5;28;01mNone\u001b[39;00m, json\u001b[38;5;241m=\u001b[39m\u001b[38;5;28;01mNone\u001b[39;00m, \u001b[38;5;241m*\u001b[39m\u001b[38;5;241m*\u001b[39mkwargs):\n\u001b[0;32m    104\u001b[0m \u001b[38;5;250m    \u001b[39m\u001b[38;5;124mr\u001b[39m\u001b[38;5;124;03m\"\"\"Sends a POST request.\u001b[39;00m\n\u001b[0;32m    105\u001b[0m \n\u001b[0;32m    106\u001b[0m \u001b[38;5;124;03m    :param url: URL for the new :class:`Request` object.\u001b[39;00m\n\u001b[1;32m   (...)\u001b[0m\n\u001b[0;32m    112\u001b[0m \u001b[38;5;124;03m    :rtype: requests.Response\u001b[39;00m\n\u001b[0;32m    113\u001b[0m \u001b[38;5;124;03m    \"\"\"\u001b[39;00m\n\u001b[1;32m--> 115\u001b[0m     \u001b[38;5;28;01mreturn\u001b[39;00m request(\u001b[38;5;124m\"\u001b[39m\u001b[38;5;124mpost\u001b[39m\u001b[38;5;124m\"\u001b[39m, url, data\u001b[38;5;241m=\u001b[39mdata, json\u001b[38;5;241m=\u001b[39mjson, \u001b[38;5;241m*\u001b[39m\u001b[38;5;241m*\u001b[39mkwargs)\n",
      "File \u001b[1;32md:\\Anaconda\\envs\\webscrapping\\lib\\site-packages\\requests\\api.py:59\u001b[0m, in \u001b[0;36mrequest\u001b[1;34m(method, url, **kwargs)\u001b[0m\n\u001b[0;32m     55\u001b[0m \u001b[38;5;66;03m# By using the 'with' statement we are sure the session is closed, thus we\u001b[39;00m\n\u001b[0;32m     56\u001b[0m \u001b[38;5;66;03m# avoid leaving sockets open which can trigger a ResourceWarning in some\u001b[39;00m\n\u001b[0;32m     57\u001b[0m \u001b[38;5;66;03m# cases, and look like a memory leak in others.\u001b[39;00m\n\u001b[0;32m     58\u001b[0m \u001b[38;5;28;01mwith\u001b[39;00m sessions\u001b[38;5;241m.\u001b[39mSession() \u001b[38;5;28;01mas\u001b[39;00m session:\n\u001b[1;32m---> 59\u001b[0m     \u001b[38;5;28;01mreturn\u001b[39;00m session\u001b[38;5;241m.\u001b[39mrequest(method\u001b[38;5;241m=\u001b[39mmethod, url\u001b[38;5;241m=\u001b[39murl, \u001b[38;5;241m*\u001b[39m\u001b[38;5;241m*\u001b[39mkwargs)\n",
      "File \u001b[1;32md:\\Anaconda\\envs\\webscrapping\\lib\\site-packages\\requests\\sessions.py:587\u001b[0m, in \u001b[0;36mSession.request\u001b[1;34m(self, method, url, params, data, headers, cookies, files, auth, timeout, allow_redirects, proxies, hooks, stream, verify, cert, json)\u001b[0m\n\u001b[0;32m    582\u001b[0m send_kwargs \u001b[38;5;241m=\u001b[39m {\n\u001b[0;32m    583\u001b[0m     \u001b[38;5;124m\"\u001b[39m\u001b[38;5;124mtimeout\u001b[39m\u001b[38;5;124m\"\u001b[39m: timeout,\n\u001b[0;32m    584\u001b[0m     \u001b[38;5;124m\"\u001b[39m\u001b[38;5;124mallow_redirects\u001b[39m\u001b[38;5;124m\"\u001b[39m: allow_redirects,\n\u001b[0;32m    585\u001b[0m }\n\u001b[0;32m    586\u001b[0m send_kwargs\u001b[38;5;241m.\u001b[39mupdate(settings)\n\u001b[1;32m--> 587\u001b[0m resp \u001b[38;5;241m=\u001b[39m \u001b[38;5;28mself\u001b[39m\u001b[38;5;241m.\u001b[39msend(prep, \u001b[38;5;241m*\u001b[39m\u001b[38;5;241m*\u001b[39msend_kwargs)\n\u001b[0;32m    589\u001b[0m \u001b[38;5;28;01mreturn\u001b[39;00m resp\n",
      "File \u001b[1;32md:\\Anaconda\\envs\\webscrapping\\lib\\site-packages\\requests\\sessions.py:701\u001b[0m, in \u001b[0;36mSession.send\u001b[1;34m(self, request, **kwargs)\u001b[0m\n\u001b[0;32m    698\u001b[0m start \u001b[38;5;241m=\u001b[39m preferred_clock()\n\u001b[0;32m    700\u001b[0m \u001b[38;5;66;03m# Send the request\u001b[39;00m\n\u001b[1;32m--> 701\u001b[0m r \u001b[38;5;241m=\u001b[39m adapter\u001b[38;5;241m.\u001b[39msend(request, \u001b[38;5;241m*\u001b[39m\u001b[38;5;241m*\u001b[39mkwargs)\n\u001b[0;32m    703\u001b[0m \u001b[38;5;66;03m# Total elapsed time of the request (approximately)\u001b[39;00m\n\u001b[0;32m    704\u001b[0m elapsed \u001b[38;5;241m=\u001b[39m preferred_clock() \u001b[38;5;241m-\u001b[39m start\n",
      "File \u001b[1;32md:\\Anaconda\\envs\\webscrapping\\lib\\site-packages\\requests\\adapters.py:489\u001b[0m, in \u001b[0;36mHTTPAdapter.send\u001b[1;34m(self, request, stream, timeout, verify, cert, proxies)\u001b[0m\n\u001b[0;32m    487\u001b[0m \u001b[38;5;28;01mtry\u001b[39;00m:\n\u001b[0;32m    488\u001b[0m     \u001b[38;5;28;01mif\u001b[39;00m \u001b[38;5;129;01mnot\u001b[39;00m chunked:\n\u001b[1;32m--> 489\u001b[0m         resp \u001b[38;5;241m=\u001b[39m \u001b[43mconn\u001b[49m\u001b[38;5;241;43m.\u001b[39;49m\u001b[43murlopen\u001b[49m\u001b[43m(\u001b[49m\n\u001b[0;32m    490\u001b[0m \u001b[43m            \u001b[49m\u001b[43mmethod\u001b[49m\u001b[38;5;241;43m=\u001b[39;49m\u001b[43mrequest\u001b[49m\u001b[38;5;241;43m.\u001b[39;49m\u001b[43mmethod\u001b[49m\u001b[43m,\u001b[49m\n\u001b[0;32m    491\u001b[0m \u001b[43m            \u001b[49m\u001b[43murl\u001b[49m\u001b[38;5;241;43m=\u001b[39;49m\u001b[43murl\u001b[49m\u001b[43m,\u001b[49m\n\u001b[0;32m    492\u001b[0m \u001b[43m            \u001b[49m\u001b[43mbody\u001b[49m\u001b[38;5;241;43m=\u001b[39;49m\u001b[43mrequest\u001b[49m\u001b[38;5;241;43m.\u001b[39;49m\u001b[43mbody\u001b[49m\u001b[43m,\u001b[49m\n\u001b[0;32m    493\u001b[0m \u001b[43m            \u001b[49m\u001b[43mheaders\u001b[49m\u001b[38;5;241;43m=\u001b[39;49m\u001b[43mrequest\u001b[49m\u001b[38;5;241;43m.\u001b[39;49m\u001b[43mheaders\u001b[49m\u001b[43m,\u001b[49m\n\u001b[0;32m    494\u001b[0m \u001b[43m            \u001b[49m\u001b[43mredirect\u001b[49m\u001b[38;5;241;43m=\u001b[39;49m\u001b[38;5;28;43;01mFalse\u001b[39;49;00m\u001b[43m,\u001b[49m\n\u001b[0;32m    495\u001b[0m \u001b[43m            \u001b[49m\u001b[43massert_same_host\u001b[49m\u001b[38;5;241;43m=\u001b[39;49m\u001b[38;5;28;43;01mFalse\u001b[39;49;00m\u001b[43m,\u001b[49m\n\u001b[0;32m    496\u001b[0m \u001b[43m            \u001b[49m\u001b[43mpreload_content\u001b[49m\u001b[38;5;241;43m=\u001b[39;49m\u001b[38;5;28;43;01mFalse\u001b[39;49;00m\u001b[43m,\u001b[49m\n\u001b[0;32m    497\u001b[0m \u001b[43m            \u001b[49m\u001b[43mdecode_content\u001b[49m\u001b[38;5;241;43m=\u001b[39;49m\u001b[38;5;28;43;01mFalse\u001b[39;49;00m\u001b[43m,\u001b[49m\n\u001b[0;32m    498\u001b[0m \u001b[43m            \u001b[49m\u001b[43mretries\u001b[49m\u001b[38;5;241;43m=\u001b[39;49m\u001b[38;5;28;43mself\u001b[39;49m\u001b[38;5;241;43m.\u001b[39;49m\u001b[43mmax_retries\u001b[49m\u001b[43m,\u001b[49m\n\u001b[0;32m    499\u001b[0m \u001b[43m            \u001b[49m\u001b[43mtimeout\u001b[49m\u001b[38;5;241;43m=\u001b[39;49m\u001b[43mtimeout\u001b[49m\u001b[43m,\u001b[49m\n\u001b[0;32m    500\u001b[0m \u001b[43m        \u001b[49m\u001b[43m)\u001b[49m\n\u001b[0;32m    502\u001b[0m     \u001b[38;5;66;03m# Send the request.\u001b[39;00m\n\u001b[0;32m    503\u001b[0m     \u001b[38;5;28;01melse\u001b[39;00m:\n\u001b[0;32m    504\u001b[0m         \u001b[38;5;28;01mif\u001b[39;00m \u001b[38;5;28mhasattr\u001b[39m(conn, \u001b[38;5;124m\"\u001b[39m\u001b[38;5;124mproxy_pool\u001b[39m\u001b[38;5;124m\"\u001b[39m):\n",
      "File \u001b[1;32md:\\Anaconda\\envs\\webscrapping\\lib\\site-packages\\urllib3\\connectionpool.py:703\u001b[0m, in \u001b[0;36mHTTPConnectionPool.urlopen\u001b[1;34m(self, method, url, body, headers, retries, redirect, assert_same_host, timeout, pool_timeout, release_conn, chunked, body_pos, **response_kw)\u001b[0m\n\u001b[0;32m    700\u001b[0m     \u001b[38;5;28mself\u001b[39m\u001b[38;5;241m.\u001b[39m_prepare_proxy(conn)\n\u001b[0;32m    702\u001b[0m \u001b[38;5;66;03m# Make the request on the httplib connection object.\u001b[39;00m\n\u001b[1;32m--> 703\u001b[0m httplib_response \u001b[38;5;241m=\u001b[39m \u001b[38;5;28;43mself\u001b[39;49m\u001b[38;5;241;43m.\u001b[39;49m\u001b[43m_make_request\u001b[49m\u001b[43m(\u001b[49m\n\u001b[0;32m    704\u001b[0m \u001b[43m    \u001b[49m\u001b[43mconn\u001b[49m\u001b[43m,\u001b[49m\n\u001b[0;32m    705\u001b[0m \u001b[43m    \u001b[49m\u001b[43mmethod\u001b[49m\u001b[43m,\u001b[49m\n\u001b[0;32m    706\u001b[0m \u001b[43m    \u001b[49m\u001b[43murl\u001b[49m\u001b[43m,\u001b[49m\n\u001b[0;32m    707\u001b[0m \u001b[43m    \u001b[49m\u001b[43mtimeout\u001b[49m\u001b[38;5;241;43m=\u001b[39;49m\u001b[43mtimeout_obj\u001b[49m\u001b[43m,\u001b[49m\n\u001b[0;32m    708\u001b[0m \u001b[43m    \u001b[49m\u001b[43mbody\u001b[49m\u001b[38;5;241;43m=\u001b[39;49m\u001b[43mbody\u001b[49m\u001b[43m,\u001b[49m\n\u001b[0;32m    709\u001b[0m \u001b[43m    \u001b[49m\u001b[43mheaders\u001b[49m\u001b[38;5;241;43m=\u001b[39;49m\u001b[43mheaders\u001b[49m\u001b[43m,\u001b[49m\n\u001b[0;32m    710\u001b[0m \u001b[43m    \u001b[49m\u001b[43mchunked\u001b[49m\u001b[38;5;241;43m=\u001b[39;49m\u001b[43mchunked\u001b[49m\u001b[43m,\u001b[49m\n\u001b[0;32m    711\u001b[0m \u001b[43m\u001b[49m\u001b[43m)\u001b[49m\n\u001b[0;32m    713\u001b[0m \u001b[38;5;66;03m# If we're going to release the connection in ``finally:``, then\u001b[39;00m\n\u001b[0;32m    714\u001b[0m \u001b[38;5;66;03m# the response doesn't need to know about the connection. Otherwise\u001b[39;00m\n\u001b[0;32m    715\u001b[0m \u001b[38;5;66;03m# it will also try to release it and we'll have a double-release\u001b[39;00m\n\u001b[0;32m    716\u001b[0m \u001b[38;5;66;03m# mess.\u001b[39;00m\n\u001b[0;32m    717\u001b[0m response_conn \u001b[38;5;241m=\u001b[39m conn \u001b[38;5;28;01mif\u001b[39;00m \u001b[38;5;129;01mnot\u001b[39;00m release_conn \u001b[38;5;28;01melse\u001b[39;00m \u001b[38;5;28;01mNone\u001b[39;00m\n",
      "File \u001b[1;32md:\\Anaconda\\envs\\webscrapping\\lib\\site-packages\\urllib3\\connectionpool.py:449\u001b[0m, in \u001b[0;36mHTTPConnectionPool._make_request\u001b[1;34m(self, conn, method, url, timeout, chunked, **httplib_request_kw)\u001b[0m\n\u001b[0;32m    444\u001b[0m             httplib_response \u001b[38;5;241m=\u001b[39m conn\u001b[38;5;241m.\u001b[39mgetresponse()\n\u001b[0;32m    445\u001b[0m         \u001b[38;5;28;01mexcept\u001b[39;00m \u001b[38;5;167;01mBaseException\u001b[39;00m \u001b[38;5;28;01mas\u001b[39;00m e:\n\u001b[0;32m    446\u001b[0m             \u001b[38;5;66;03m# Remove the TypeError from the exception chain in\u001b[39;00m\n\u001b[0;32m    447\u001b[0m             \u001b[38;5;66;03m# Python 3 (including for exceptions like SystemExit).\u001b[39;00m\n\u001b[0;32m    448\u001b[0m             \u001b[38;5;66;03m# Otherwise it looks like a bug in the code.\u001b[39;00m\n\u001b[1;32m--> 449\u001b[0m             \u001b[43msix\u001b[49m\u001b[38;5;241;43m.\u001b[39;49m\u001b[43mraise_from\u001b[49m\u001b[43m(\u001b[49m\u001b[43me\u001b[49m\u001b[43m,\u001b[49m\u001b[43m \u001b[49m\u001b[38;5;28;43;01mNone\u001b[39;49;00m\u001b[43m)\u001b[49m\n\u001b[0;32m    450\u001b[0m \u001b[38;5;28;01mexcept\u001b[39;00m (SocketTimeout, BaseSSLError, SocketError) \u001b[38;5;28;01mas\u001b[39;00m e:\n\u001b[0;32m    451\u001b[0m     \u001b[38;5;28mself\u001b[39m\u001b[38;5;241m.\u001b[39m_raise_timeout(err\u001b[38;5;241m=\u001b[39me, url\u001b[38;5;241m=\u001b[39murl, timeout_value\u001b[38;5;241m=\u001b[39mread_timeout)\n",
      "File \u001b[1;32m<string>:3\u001b[0m, in \u001b[0;36mraise_from\u001b[1;34m(value, from_value)\u001b[0m\n",
      "File \u001b[1;32md:\\Anaconda\\envs\\webscrapping\\lib\\site-packages\\urllib3\\connectionpool.py:444\u001b[0m, in \u001b[0;36mHTTPConnectionPool._make_request\u001b[1;34m(self, conn, method, url, timeout, chunked, **httplib_request_kw)\u001b[0m\n\u001b[0;32m    441\u001b[0m \u001b[38;5;28;01mexcept\u001b[39;00m \u001b[38;5;167;01mTypeError\u001b[39;00m:\n\u001b[0;32m    442\u001b[0m     \u001b[38;5;66;03m# Python 3\u001b[39;00m\n\u001b[0;32m    443\u001b[0m     \u001b[38;5;28;01mtry\u001b[39;00m:\n\u001b[1;32m--> 444\u001b[0m         httplib_response \u001b[38;5;241m=\u001b[39m \u001b[43mconn\u001b[49m\u001b[38;5;241;43m.\u001b[39;49m\u001b[43mgetresponse\u001b[49m\u001b[43m(\u001b[49m\u001b[43m)\u001b[49m\n\u001b[0;32m    445\u001b[0m     \u001b[38;5;28;01mexcept\u001b[39;00m \u001b[38;5;167;01mBaseException\u001b[39;00m \u001b[38;5;28;01mas\u001b[39;00m e:\n\u001b[0;32m    446\u001b[0m         \u001b[38;5;66;03m# Remove the TypeError from the exception chain in\u001b[39;00m\n\u001b[0;32m    447\u001b[0m         \u001b[38;5;66;03m# Python 3 (including for exceptions like SystemExit).\u001b[39;00m\n\u001b[0;32m    448\u001b[0m         \u001b[38;5;66;03m# Otherwise it looks like a bug in the code.\u001b[39;00m\n\u001b[0;32m    449\u001b[0m         six\u001b[38;5;241m.\u001b[39mraise_from(e, \u001b[38;5;28;01mNone\u001b[39;00m)\n",
      "File \u001b[1;32md:\\Anaconda\\envs\\webscrapping\\lib\\http\\client.py:1377\u001b[0m, in \u001b[0;36mHTTPConnection.getresponse\u001b[1;34m(self)\u001b[0m\n\u001b[0;32m   1375\u001b[0m \u001b[38;5;28;01mtry\u001b[39;00m:\n\u001b[0;32m   1376\u001b[0m     \u001b[38;5;28;01mtry\u001b[39;00m:\n\u001b[1;32m-> 1377\u001b[0m         \u001b[43mresponse\u001b[49m\u001b[38;5;241;43m.\u001b[39;49m\u001b[43mbegin\u001b[49m\u001b[43m(\u001b[49m\u001b[43m)\u001b[49m\n\u001b[0;32m   1378\u001b[0m     \u001b[38;5;28;01mexcept\u001b[39;00m \u001b[38;5;167;01mConnectionError\u001b[39;00m:\n\u001b[0;32m   1379\u001b[0m         \u001b[38;5;28mself\u001b[39m\u001b[38;5;241m.\u001b[39mclose()\n",
      "File \u001b[1;32md:\\Anaconda\\envs\\webscrapping\\lib\\http\\client.py:320\u001b[0m, in \u001b[0;36mHTTPResponse.begin\u001b[1;34m(self)\u001b[0m\n\u001b[0;32m    318\u001b[0m \u001b[38;5;66;03m# read until we get a non-100 response\u001b[39;00m\n\u001b[0;32m    319\u001b[0m \u001b[38;5;28;01mwhile\u001b[39;00m \u001b[38;5;28;01mTrue\u001b[39;00m:\n\u001b[1;32m--> 320\u001b[0m     version, status, reason \u001b[38;5;241m=\u001b[39m \u001b[38;5;28;43mself\u001b[39;49m\u001b[38;5;241;43m.\u001b[39;49m\u001b[43m_read_status\u001b[49m\u001b[43m(\u001b[49m\u001b[43m)\u001b[49m\n\u001b[0;32m    321\u001b[0m     \u001b[38;5;28;01mif\u001b[39;00m status \u001b[38;5;241m!=\u001b[39m CONTINUE:\n\u001b[0;32m    322\u001b[0m         \u001b[38;5;28;01mbreak\u001b[39;00m\n",
      "File \u001b[1;32md:\\Anaconda\\envs\\webscrapping\\lib\\http\\client.py:281\u001b[0m, in \u001b[0;36mHTTPResponse._read_status\u001b[1;34m(self)\u001b[0m\n\u001b[0;32m    280\u001b[0m \u001b[38;5;28;01mdef\u001b[39;00m\u001b[38;5;250m \u001b[39m\u001b[38;5;21m_read_status\u001b[39m(\u001b[38;5;28mself\u001b[39m):\n\u001b[1;32m--> 281\u001b[0m     line \u001b[38;5;241m=\u001b[39m \u001b[38;5;28mstr\u001b[39m(\u001b[38;5;28;43mself\u001b[39;49m\u001b[38;5;241;43m.\u001b[39;49m\u001b[43mfp\u001b[49m\u001b[38;5;241;43m.\u001b[39;49m\u001b[43mreadline\u001b[49m\u001b[43m(\u001b[49m\u001b[43m_MAXLINE\u001b[49m\u001b[43m \u001b[49m\u001b[38;5;241;43m+\u001b[39;49m\u001b[43m \u001b[49m\u001b[38;5;241;43m1\u001b[39;49m\u001b[43m)\u001b[49m, \u001b[38;5;124m\"\u001b[39m\u001b[38;5;124miso-8859-1\u001b[39m\u001b[38;5;124m\"\u001b[39m)\n\u001b[0;32m    282\u001b[0m     \u001b[38;5;28;01mif\u001b[39;00m \u001b[38;5;28mlen\u001b[39m(line) \u001b[38;5;241m>\u001b[39m _MAXLINE:\n\u001b[0;32m    283\u001b[0m         \u001b[38;5;28;01mraise\u001b[39;00m LineTooLong(\u001b[38;5;124m\"\u001b[39m\u001b[38;5;124mstatus line\u001b[39m\u001b[38;5;124m\"\u001b[39m)\n",
      "File \u001b[1;32md:\\Anaconda\\envs\\webscrapping\\lib\\socket.py:716\u001b[0m, in \u001b[0;36mSocketIO.readinto\u001b[1;34m(self, b)\u001b[0m\n\u001b[0;32m    714\u001b[0m \u001b[38;5;28;01mwhile\u001b[39;00m \u001b[38;5;28;01mTrue\u001b[39;00m:\n\u001b[0;32m    715\u001b[0m     \u001b[38;5;28;01mtry\u001b[39;00m:\n\u001b[1;32m--> 716\u001b[0m         \u001b[38;5;28;01mreturn\u001b[39;00m \u001b[38;5;28;43mself\u001b[39;49m\u001b[38;5;241;43m.\u001b[39;49m\u001b[43m_sock\u001b[49m\u001b[38;5;241;43m.\u001b[39;49m\u001b[43mrecv_into\u001b[49m\u001b[43m(\u001b[49m\u001b[43mb\u001b[49m\u001b[43m)\u001b[49m\n\u001b[0;32m    717\u001b[0m     \u001b[38;5;28;01mexcept\u001b[39;00m timeout:\n\u001b[0;32m    718\u001b[0m         \u001b[38;5;28mself\u001b[39m\u001b[38;5;241m.\u001b[39m_timeout_occurred \u001b[38;5;241m=\u001b[39m \u001b[38;5;28;01mTrue\u001b[39;00m\n",
      "\u001b[1;31mKeyboardInterrupt\u001b[0m: "
     ]
    }
   ],
   "source": [
    "import pandas as pd\n",
    "import requests\n",
    "from bs4 import BeautifulSoup\n",
    "import json\n",
    "import re\n",
    "\n",
    "def extract_details_with_ollama(job_text):\n",
    "    url = \"http://localhost:11434/api/generate\"\n",
    "    prompt = f\"\"\"\n",
    "Extract the following details from the job description:\n",
    "- Salary\n",
    "- Years of experience required\n",
    "- Technical requirements\n",
    "- Education level requirements\n",
    "\n",
    "Job description:\n",
    "{job_text}\n",
    "\n",
    "Output ONLY a JSON with keys: \"salary\", \"experience\", \"technical_requirements\", \"education\".\n",
    "\n",
    "Example output:\n",
    "{{\n",
    "    \"salary\": \"100000\",\n",
    "    \"experience\": \"3 years\",\n",
    "    \"technical_requirements\": \"Python, SQL\",\n",
    "    \"education\": \"Bachelor's degree\"\n",
    "}}\n",
    "\n",
    "\"\"\"\n",
    "    payload = {\"model\": \"llama3.2:1b\", \"prompt\": prompt}\n",
    "\n",
    "    response = requests.post(url, json=payload, stream=True)\n",
    "\n",
    "    tokens = []\n",
    "    for line in response.iter_lines():\n",
    "        if line:\n",
    "            try:\n",
    "                token_data = json.loads(line.decode(\"utf-8\"))\n",
    "                token = token_data.get(\"response\", \"\")\n",
    "                tokens.append(token)\n",
    "            except json.JSONDecodeError:\n",
    "                # Skip improperly formatted lines\n",
    "                continue\n",
    "\n",
    "    final_answer = \"\".join(tokens)\n",
    "    # Extract a valid JSON substring using regex\n",
    "    match = re.search(r'\\{.*\\}', final_answer, re.DOTALL)\n",
    "    if match:\n",
    "        json_str = match.group(0)\n",
    "        try:\n",
    "            return json.loads(json_str)\n",
    "        except json.JSONDecodeError:\n",
    "            print(\"Error: Extracted JSON substring is not valid JSON.\")\n",
    "            return {}\n",
    "    else:\n",
    "        print(\"Error: Could not extract valid JSON substring from LLM output.\")\n",
    "        return {}\n",
    "\n",
    "def fetch_job_description(url):\n",
    "    headers = {\"User-Agent\": \"Mozilla/5.0\"}\n",
    "    response = requests.get(url, headers=headers)\n",
    "    if response.status_code != 200:\n",
    "        print(f\"Failed to fetch URL: {url}\")\n",
    "        return \"\"\n",
    "    soup = BeautifulSoup(response.content, \"html.parser\")\n",
    "    return soup.get_text(separator=\" \", strip=True)\n",
    "\n",
    "def main():\n",
    "    df = pd.read_csv(\"jobs.csv\")\n",
    "\n",
    "    # Add new columns for extracted details\n",
    "    df[\"salary\"] = None\n",
    "    df[\"experience\"] = None\n",
    "    df[\"technical_requirements\"] = None\n",
    "    df[\"education\"] = None\n",
    "\n",
    "    for idx, row in df.iterrows():\n",
    "        job_url = row[\"job_detail_url\"]\n",
    "        print(f\"Processing: {job_url}\")\n",
    "        job_text = fetch_job_description(job_url)\n",
    "        if not job_text:\n",
    "            continue\n",
    "        details = extract_details_with_ollama(job_text)\n",
    "        print(\"==============\")\n",
    "        print(\"==============\")\n",
    "        print(details)\n",
    "        print(details.get(\"salary\"))\n",
    "        print(details.get(\"experience\"))\n",
    "        print(details.get(\"technical_requirements\"))\n",
    "        print(details.get(\"education\"))\n",
    "        print(\"==============\")\n",
    "        print(\"==============\")\n",
    "        df.at[idx, \"salary\"] = details.get(\"salary\")\n",
    "        df.at[idx, \"experience\"] = details.get(\"experience\")\n",
    "        df.at[idx, \"technical_requirements\"] = details.get(\"technical_requirements\")\n",
    "        df.at[idx, \"education\"] = details.get(\"education\")\n",
    "\n",
    "    df.to_csv(\"jobs_enriched.csv\", index=False)\n",
    "    print(\"Enriched CSV saved as jobs_enriched.csv\")\n",
    "\n",
    "if __name__ == \"__main__\":\n",
    "    main()\n"
   ]
  },
  {
   "cell_type": "code",
   "execution_count": null,
   "metadata": {},
   "outputs": [],
   "source": []
  }
 ],
 "metadata": {
  "kernelspec": {
   "display_name": "webscrapping",
   "language": "python",
   "name": "python3"
  },
  "language_info": {
   "codemirror_mode": {
    "name": "ipython",
    "version": 3
   },
   "file_extension": ".py",
   "mimetype": "text/x-python",
   "name": "python",
   "nbconvert_exporter": "python",
   "pygments_lexer": "ipython3",
   "version": "3.9.21"
  }
 },
 "nbformat": 4,
 "nbformat_minor": 2
}
